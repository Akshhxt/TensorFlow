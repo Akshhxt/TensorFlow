{
  "nbformat": 4,
  "nbformat_minor": 0,
  "metadata": {
    "colab": {
      "provenance": [],
      "gpuType": "T4",
      "authorship_tag": "ABX9TyNXmG6O9R4UOQMEzXiLSHed",
      "include_colab_link": true
    },
    "kernelspec": {
      "name": "python3",
      "display_name": "Python 3"
    },
    "language_info": {
      "name": "python"
    },
    "accelerator": "GPU"
  },
  "cells": [
    {
      "cell_type": "markdown",
      "metadata": {
        "id": "view-in-github",
        "colab_type": "text"
      },
      "source": [
        "<a href=\"https://colab.research.google.com/github/Akshhxt/TensorFlow/blob/main/Neural_Network_Classification_with_Tensorflow.ipynb\" target=\"_parent\"><img src=\"https://colab.research.google.com/assets/colab-badge.svg\" alt=\"Open In Colab\"/></a>"
      ]
    },
    {
      "cell_type": "markdown",
      "source": [
        "##Introdution to Neural Network Classification in TensorFlow"
      ],
      "metadata": {
        "id": "pqF8gqL8jsYL"
      }
    },
    {
      "cell_type": "code",
      "execution_count": 1,
      "metadata": {
        "id": "mq-TMImRMWEZ",
        "colab": {
          "base_uri": "https://localhost:8080/"
        },
        "outputId": "bac576b3-3f93-408a-ba3b-dca215e959c4"
      },
      "outputs": [
        {
          "output_type": "stream",
          "name": "stdout",
          "text": [
            "2.15.0\n"
          ]
        }
      ],
      "source": [
        "import tensorflow as tf\n",
        "print(tf.__version__)"
      ]
    },
    {
      "cell_type": "markdown",
      "source": [
        "# Creating data to view and fit"
      ],
      "metadata": {
        "id": "K8vMSshOkdUi"
      }
    },
    {
      "cell_type": "code",
      "source": [
        "from sklearn.datasets import make_circles\n",
        "\n",
        "# Make 1000 examples\n",
        "n_samples = 1000\n",
        "\n",
        "# Create circles\n",
        "X, y = make_circles(n_samples,\n",
        "                    noise=0.03,\n",
        "                    random_state=42)"
      ],
      "metadata": {
        "id": "S7XroqZFkHjk"
      },
      "execution_count": 2,
      "outputs": []
    },
    {
      "cell_type": "code",
      "source": [
        "# Check out the features\n",
        "X"
      ],
      "metadata": {
        "colab": {
          "base_uri": "https://localhost:8080/"
        },
        "id": "aHhEStIBkTYg",
        "outputId": "4f3a6da7-f61c-47cc-ca6d-6601be458a48"
      },
      "execution_count": 3,
      "outputs": [
        {
          "output_type": "execute_result",
          "data": {
            "text/plain": [
              "array([[ 0.75424625,  0.23148074],\n",
              "       [-0.75615888,  0.15325888],\n",
              "       [-0.81539193,  0.17328203],\n",
              "       ...,\n",
              "       [-0.13690036, -0.81001183],\n",
              "       [ 0.67036156, -0.76750154],\n",
              "       [ 0.28105665,  0.96382443]])"
            ]
          },
          "metadata": {},
          "execution_count": 3
        }
      ]
    },
    {
      "cell_type": "code",
      "source": [
        "# check out the labels\n",
        "y[:10]"
      ],
      "metadata": {
        "colab": {
          "base_uri": "https://localhost:8080/"
        },
        "id": "Ejo2USNXkyd5",
        "outputId": "63daea12-2ba0-4c81-b30a-9bc5c43f4efd"
      },
      "execution_count": 4,
      "outputs": [
        {
          "output_type": "execute_result",
          "data": {
            "text/plain": [
              "array([1, 1, 1, 1, 0, 1, 1, 1, 1, 0])"
            ]
          },
          "metadata": {},
          "execution_count": 4
        }
      ]
    },
    {
      "cell_type": "markdown",
      "source": [
        "#A few types of classification problems:\n",
        "* Binary Classification\n",
        "* Multiclass Classification\n",
        "* Multilabel Classification"
      ],
      "metadata": {
        "id": "h55QZQ92k-Bf"
      }
    },
    {
      "cell_type": "markdown",
      "source": [
        "## Visualizing our Data"
      ],
      "metadata": {
        "id": "hO_eatz-lfA6"
      }
    },
    {
      "cell_type": "code",
      "source": [
        "# Make dataframe of features and labels\n",
        "import pandas as pd\n",
        "circles = pd.DataFrame({\"X0\":X[:, 0], \"X1\":X[:, 1], \"label\":y})\n",
        "circles.head()"
      ],
      "metadata": {
        "colab": {
          "base_uri": "https://localhost:8080/",
          "height": 206
        },
        "id": "k9YZRgXTk4qC",
        "outputId": "d2b5b976-608a-4b0b-9bb8-3afe10137d08"
      },
      "execution_count": 5,
      "outputs": [
        {
          "output_type": "execute_result",
          "data": {
            "text/plain": [
              "         X0        X1  label\n",
              "0  0.754246  0.231481      1\n",
              "1 -0.756159  0.153259      1\n",
              "2 -0.815392  0.173282      1\n",
              "3 -0.393731  0.692883      1\n",
              "4  0.442208 -0.896723      0"
            ],
            "text/html": [
              "\n",
              "  <div id=\"df-4a583df9-ceb4-4ee9-8b0d-77f0147e6470\" class=\"colab-df-container\">\n",
              "    <div>\n",
              "<style scoped>\n",
              "    .dataframe tbody tr th:only-of-type {\n",
              "        vertical-align: middle;\n",
              "    }\n",
              "\n",
              "    .dataframe tbody tr th {\n",
              "        vertical-align: top;\n",
              "    }\n",
              "\n",
              "    .dataframe thead th {\n",
              "        text-align: right;\n",
              "    }\n",
              "</style>\n",
              "<table border=\"1\" class=\"dataframe\">\n",
              "  <thead>\n",
              "    <tr style=\"text-align: right;\">\n",
              "      <th></th>\n",
              "      <th>X0</th>\n",
              "      <th>X1</th>\n",
              "      <th>label</th>\n",
              "    </tr>\n",
              "  </thead>\n",
              "  <tbody>\n",
              "    <tr>\n",
              "      <th>0</th>\n",
              "      <td>0.754246</td>\n",
              "      <td>0.231481</td>\n",
              "      <td>1</td>\n",
              "    </tr>\n",
              "    <tr>\n",
              "      <th>1</th>\n",
              "      <td>-0.756159</td>\n",
              "      <td>0.153259</td>\n",
              "      <td>1</td>\n",
              "    </tr>\n",
              "    <tr>\n",
              "      <th>2</th>\n",
              "      <td>-0.815392</td>\n",
              "      <td>0.173282</td>\n",
              "      <td>1</td>\n",
              "    </tr>\n",
              "    <tr>\n",
              "      <th>3</th>\n",
              "      <td>-0.393731</td>\n",
              "      <td>0.692883</td>\n",
              "      <td>1</td>\n",
              "    </tr>\n",
              "    <tr>\n",
              "      <th>4</th>\n",
              "      <td>0.442208</td>\n",
              "      <td>-0.896723</td>\n",
              "      <td>0</td>\n",
              "    </tr>\n",
              "  </tbody>\n",
              "</table>\n",
              "</div>\n",
              "    <div class=\"colab-df-buttons\">\n",
              "\n",
              "  <div class=\"colab-df-container\">\n",
              "    <button class=\"colab-df-convert\" onclick=\"convertToInteractive('df-4a583df9-ceb4-4ee9-8b0d-77f0147e6470')\"\n",
              "            title=\"Convert this dataframe to an interactive table.\"\n",
              "            style=\"display:none;\">\n",
              "\n",
              "  <svg xmlns=\"http://www.w3.org/2000/svg\" height=\"24px\" viewBox=\"0 -960 960 960\">\n",
              "    <path d=\"M120-120v-720h720v720H120Zm60-500h600v-160H180v160Zm220 220h160v-160H400v160Zm0 220h160v-160H400v160ZM180-400h160v-160H180v160Zm440 0h160v-160H620v160ZM180-180h160v-160H180v160Zm440 0h160v-160H620v160Z\"/>\n",
              "  </svg>\n",
              "    </button>\n",
              "\n",
              "  <style>\n",
              "    .colab-df-container {\n",
              "      display:flex;\n",
              "      gap: 12px;\n",
              "    }\n",
              "\n",
              "    .colab-df-convert {\n",
              "      background-color: #E8F0FE;\n",
              "      border: none;\n",
              "      border-radius: 50%;\n",
              "      cursor: pointer;\n",
              "      display: none;\n",
              "      fill: #1967D2;\n",
              "      height: 32px;\n",
              "      padding: 0 0 0 0;\n",
              "      width: 32px;\n",
              "    }\n",
              "\n",
              "    .colab-df-convert:hover {\n",
              "      background-color: #E2EBFA;\n",
              "      box-shadow: 0px 1px 2px rgba(60, 64, 67, 0.3), 0px 1px 3px 1px rgba(60, 64, 67, 0.15);\n",
              "      fill: #174EA6;\n",
              "    }\n",
              "\n",
              "    .colab-df-buttons div {\n",
              "      margin-bottom: 4px;\n",
              "    }\n",
              "\n",
              "    [theme=dark] .colab-df-convert {\n",
              "      background-color: #3B4455;\n",
              "      fill: #D2E3FC;\n",
              "    }\n",
              "\n",
              "    [theme=dark] .colab-df-convert:hover {\n",
              "      background-color: #434B5C;\n",
              "      box-shadow: 0px 1px 3px 1px rgba(0, 0, 0, 0.15);\n",
              "      filter: drop-shadow(0px 1px 2px rgba(0, 0, 0, 0.3));\n",
              "      fill: #FFFFFF;\n",
              "    }\n",
              "  </style>\n",
              "\n",
              "    <script>\n",
              "      const buttonEl =\n",
              "        document.querySelector('#df-4a583df9-ceb4-4ee9-8b0d-77f0147e6470 button.colab-df-convert');\n",
              "      buttonEl.style.display =\n",
              "        google.colab.kernel.accessAllowed ? 'block' : 'none';\n",
              "\n",
              "      async function convertToInteractive(key) {\n",
              "        const element = document.querySelector('#df-4a583df9-ceb4-4ee9-8b0d-77f0147e6470');\n",
              "        const dataTable =\n",
              "          await google.colab.kernel.invokeFunction('convertToInteractive',\n",
              "                                                    [key], {});\n",
              "        if (!dataTable) return;\n",
              "\n",
              "        const docLinkHtml = 'Like what you see? Visit the ' +\n",
              "          '<a target=\"_blank\" href=https://colab.research.google.com/notebooks/data_table.ipynb>data table notebook</a>'\n",
              "          + ' to learn more about interactive tables.';\n",
              "        element.innerHTML = '';\n",
              "        dataTable['output_type'] = 'display_data';\n",
              "        await google.colab.output.renderOutput(dataTable, element);\n",
              "        const docLink = document.createElement('div');\n",
              "        docLink.innerHTML = docLinkHtml;\n",
              "        element.appendChild(docLink);\n",
              "      }\n",
              "    </script>\n",
              "  </div>\n",
              "\n",
              "\n",
              "<div id=\"df-c0004435-8ada-4c59-9d87-8f1b56c24587\">\n",
              "  <button class=\"colab-df-quickchart\" onclick=\"quickchart('df-c0004435-8ada-4c59-9d87-8f1b56c24587')\"\n",
              "            title=\"Suggest charts\"\n",
              "            style=\"display:none;\">\n",
              "\n",
              "<svg xmlns=\"http://www.w3.org/2000/svg\" height=\"24px\"viewBox=\"0 0 24 24\"\n",
              "     width=\"24px\">\n",
              "    <g>\n",
              "        <path d=\"M19 3H5c-1.1 0-2 .9-2 2v14c0 1.1.9 2 2 2h14c1.1 0 2-.9 2-2V5c0-1.1-.9-2-2-2zM9 17H7v-7h2v7zm4 0h-2V7h2v10zm4 0h-2v-4h2v4z\"/>\n",
              "    </g>\n",
              "</svg>\n",
              "  </button>\n",
              "\n",
              "<style>\n",
              "  .colab-df-quickchart {\n",
              "      --bg-color: #E8F0FE;\n",
              "      --fill-color: #1967D2;\n",
              "      --hover-bg-color: #E2EBFA;\n",
              "      --hover-fill-color: #174EA6;\n",
              "      --disabled-fill-color: #AAA;\n",
              "      --disabled-bg-color: #DDD;\n",
              "  }\n",
              "\n",
              "  [theme=dark] .colab-df-quickchart {\n",
              "      --bg-color: #3B4455;\n",
              "      --fill-color: #D2E3FC;\n",
              "      --hover-bg-color: #434B5C;\n",
              "      --hover-fill-color: #FFFFFF;\n",
              "      --disabled-bg-color: #3B4455;\n",
              "      --disabled-fill-color: #666;\n",
              "  }\n",
              "\n",
              "  .colab-df-quickchart {\n",
              "    background-color: var(--bg-color);\n",
              "    border: none;\n",
              "    border-radius: 50%;\n",
              "    cursor: pointer;\n",
              "    display: none;\n",
              "    fill: var(--fill-color);\n",
              "    height: 32px;\n",
              "    padding: 0;\n",
              "    width: 32px;\n",
              "  }\n",
              "\n",
              "  .colab-df-quickchart:hover {\n",
              "    background-color: var(--hover-bg-color);\n",
              "    box-shadow: 0 1px 2px rgba(60, 64, 67, 0.3), 0 1px 3px 1px rgba(60, 64, 67, 0.15);\n",
              "    fill: var(--button-hover-fill-color);\n",
              "  }\n",
              "\n",
              "  .colab-df-quickchart-complete:disabled,\n",
              "  .colab-df-quickchart-complete:disabled:hover {\n",
              "    background-color: var(--disabled-bg-color);\n",
              "    fill: var(--disabled-fill-color);\n",
              "    box-shadow: none;\n",
              "  }\n",
              "\n",
              "  .colab-df-spinner {\n",
              "    border: 2px solid var(--fill-color);\n",
              "    border-color: transparent;\n",
              "    border-bottom-color: var(--fill-color);\n",
              "    animation:\n",
              "      spin 1s steps(1) infinite;\n",
              "  }\n",
              "\n",
              "  @keyframes spin {\n",
              "    0% {\n",
              "      border-color: transparent;\n",
              "      border-bottom-color: var(--fill-color);\n",
              "      border-left-color: var(--fill-color);\n",
              "    }\n",
              "    20% {\n",
              "      border-color: transparent;\n",
              "      border-left-color: var(--fill-color);\n",
              "      border-top-color: var(--fill-color);\n",
              "    }\n",
              "    30% {\n",
              "      border-color: transparent;\n",
              "      border-left-color: var(--fill-color);\n",
              "      border-top-color: var(--fill-color);\n",
              "      border-right-color: var(--fill-color);\n",
              "    }\n",
              "    40% {\n",
              "      border-color: transparent;\n",
              "      border-right-color: var(--fill-color);\n",
              "      border-top-color: var(--fill-color);\n",
              "    }\n",
              "    60% {\n",
              "      border-color: transparent;\n",
              "      border-right-color: var(--fill-color);\n",
              "    }\n",
              "    80% {\n",
              "      border-color: transparent;\n",
              "      border-right-color: var(--fill-color);\n",
              "      border-bottom-color: var(--fill-color);\n",
              "    }\n",
              "    90% {\n",
              "      border-color: transparent;\n",
              "      border-bottom-color: var(--fill-color);\n",
              "    }\n",
              "  }\n",
              "</style>\n",
              "\n",
              "  <script>\n",
              "    async function quickchart(key) {\n",
              "      const quickchartButtonEl =\n",
              "        document.querySelector('#' + key + ' button');\n",
              "      quickchartButtonEl.disabled = true;  // To prevent multiple clicks.\n",
              "      quickchartButtonEl.classList.add('colab-df-spinner');\n",
              "      try {\n",
              "        const charts = await google.colab.kernel.invokeFunction(\n",
              "            'suggestCharts', [key], {});\n",
              "      } catch (error) {\n",
              "        console.error('Error during call to suggestCharts:', error);\n",
              "      }\n",
              "      quickchartButtonEl.classList.remove('colab-df-spinner');\n",
              "      quickchartButtonEl.classList.add('colab-df-quickchart-complete');\n",
              "    }\n",
              "    (() => {\n",
              "      let quickchartButtonEl =\n",
              "        document.querySelector('#df-c0004435-8ada-4c59-9d87-8f1b56c24587 button');\n",
              "      quickchartButtonEl.style.display =\n",
              "        google.colab.kernel.accessAllowed ? 'block' : 'none';\n",
              "    })();\n",
              "  </script>\n",
              "</div>\n",
              "\n",
              "    </div>\n",
              "  </div>\n"
            ],
            "application/vnd.google.colaboratory.intrinsic+json": {
              "type": "dataframe",
              "variable_name": "circles",
              "summary": "{\n  \"name\": \"circles\",\n  \"rows\": 1000,\n  \"fields\": [\n    {\n      \"column\": \"X0\",\n      \"properties\": {\n        \"dtype\": \"number\",\n        \"std\": 0.6398365674574613,\n        \"min\": -1.0595024599098635,\n        \"max\": 1.0337117525463373,\n        \"num_unique_values\": 1000,\n        \"samples\": [\n          -0.3751930206933384,\n          0.015380346701456493,\n          -0.7027835978832848\n        ],\n        \"semantic_type\": \"\",\n        \"description\": \"\"\n      }\n    },\n    {\n      \"column\": \"X1\",\n      \"properties\": {\n        \"dtype\": \"number\",\n        \"std\": 0.6411559581015384,\n        \"min\": -1.0677683182718436,\n        \"max\": 1.0360036756154805,\n        \"num_unique_values\": 1000,\n        \"samples\": [\n          0.6826597225888621,\n          0.9600260220697324,\n          -0.3147169925147762\n        ],\n        \"semantic_type\": \"\",\n        \"description\": \"\"\n      }\n    },\n    {\n      \"column\": \"label\",\n      \"properties\": {\n        \"dtype\": \"number\",\n        \"std\": 0,\n        \"min\": 0,\n        \"max\": 1,\n        \"num_unique_values\": 2,\n        \"samples\": [\n          0,\n          1\n        ],\n        \"semantic_type\": \"\",\n        \"description\": \"\"\n      }\n    }\n  ]\n}"
            }
          },
          "metadata": {},
          "execution_count": 5
        }
      ]
    },
    {
      "cell_type": "code",
      "source": [
        "\n",
        "# Check out the different labels\n",
        "circles.label.value_counts()\n"
      ],
      "metadata": {
        "colab": {
          "base_uri": "https://localhost:8080/"
        },
        "id": "U6jtfn-EmWcr",
        "outputId": "6ffc6766-7729-492a-fe84-e48d4aebddae"
      },
      "execution_count": 6,
      "outputs": [
        {
          "output_type": "execute_result",
          "data": {
            "text/plain": [
              "1    500\n",
              "0    500\n",
              "Name: label, dtype: int64"
            ]
          },
          "metadata": {},
          "execution_count": 6
        }
      ]
    },
    {
      "cell_type": "code",
      "source": [
        "# Visualize with a plot\n",
        "import matplotlib.pyplot as plt\n",
        "plt.scatter(X[:, 0], X[:, 1], c=y, cmap=plt.cm.RdYlBu);"
      ],
      "metadata": {
        "colab": {
          "base_uri": "https://localhost:8080/",
          "height": 430
        },
        "id": "GmNNXYHrlrlU",
        "outputId": "a62b20b9-6a69-4998-d0bf-096559195f08"
      },
      "execution_count": 7,
      "outputs": [
        {
          "output_type": "display_data",
          "data": {
            "text/plain": [
              "<Figure size 640x480 with 1 Axes>"
            ],
            "image/png": "[encoded data removed]"
          },
          "metadata": {}
        }
      ]
    },
    {
      "cell_type": "code",
      "source": [
        "# Check the shapes\n",
        "X.shape, y.shape"
      ],
      "metadata": {
        "colab": {
          "base_uri": "https://localhost:8080/"
        },
        "id": "27KnvAI9m_m0",
        "outputId": "0ad9832a-2e9a-4872-bbaf-78fd02abd31b"
      },
      "execution_count": 8,
      "outputs": [
        {
          "output_type": "execute_result",
          "data": {
            "text/plain": [
              "((1000, 2), (1000,))"
            ]
          },
          "metadata": {},
          "execution_count": 8
        }
      ]
    },
    {
      "cell_type": "code",
      "source": [
        "# How many samples are we working on?\n",
        "len(X), len(y)"
      ],
      "metadata": {
        "colab": {
          "base_uri": "https://localhost:8080/"
        },
        "id": "CbjjE7X3oMLF",
        "outputId": "0c870404-93da-45e6-9e0f-e1b1bd16c3af"
      },
      "execution_count": 9,
      "outputs": [
        {
          "output_type": "execute_result",
          "data": {
            "text/plain": [
              "(1000, 1000)"
            ]
          },
          "metadata": {},
          "execution_count": 9
        }
      ]
    },
    {
      "cell_type": "code",
      "source": [
        "#View the first example of features and labels\n",
        "X[0], y[0]"
      ],
      "metadata": {
        "colab": {
          "base_uri": "https://localhost:8080/"
        },
        "id": "SI2MqyfMoa30",
        "outputId": "cc04d4e2-55b5-4937-9da4-cc8a880e1481"
      },
      "execution_count": 10,
      "outputs": [
        {
          "output_type": "execute_result",
          "data": {
            "text/plain": [
              "(array([0.75424625, 0.23148074]), 1)"
            ]
          },
          "metadata": {},
          "execution_count": 10
        }
      ]
    },
    {
      "cell_type": "markdown",
      "source": [
        "## Steps in modelling\n",
        "* 1. Creating a model\n",
        "* 2. Compiling the model\n",
        "* 3. Fitting the model\n",
        "* 4. Evaluate the model"
      ],
      "metadata": {
        "id": "D5kKV6ORoxBG"
      }
    },
    {
      "cell_type": "code",
      "source": [
        "# Set a random seed\n",
        "tf.random.set_seed(42)\n",
        "\n",
        "# 1. Create the model\n",
        "model_1 = tf.keras.Sequential([\n",
        "    tf.keras.layers.Dense(1)\n",
        "])\n",
        "\n",
        "# 2. Compile the model\n",
        "\n",
        "model_1.compile(loss=tf.keras.losses.BinaryCrossentropy(), # binary since we are working with 2 clases (0 & 1)\n",
        "                optimizer=tf.keras.optimizers.SGD(),\n",
        "                metrics=[\"accuracy\"])\n",
        "\n",
        "# 3. Fit the model\n",
        "\n",
        "model_1.fit(X, y, epochs=200, verbose=0)\n",
        "\n",
        "# 4. Evaluate the model\n",
        "\n",
        "model_1.evaluate(X,y)"
      ],
      "metadata": {
        "colab": {
          "base_uri": "https://localhost:8080/"
        },
        "id": "M1zRISjbolp9",
        "outputId": "0e8d3e1e-110f-4ba1-c66a-3e9a07351727"
      },
      "execution_count": 11,
      "outputs": [
        {
          "output_type": "stream",
          "name": "stdout",
          "text": [
            "32/32 [==============================] - 1s 12ms/step - loss: 0.6935 - accuracy: 0.5000\n"
          ]
        },
        {
          "output_type": "execute_result",
          "data": {
            "text/plain": [
              "[0.6934831142425537, 0.5]"
            ]
          },
          "metadata": {},
          "execution_count": 11
        }
      ]
    },
    {
      "cell_type": "markdown",
      "source": [
        "Even after 200 passes of the data, it's still performing as if it's guessing.\n",
        "\n",
        "What if we added an extra layer and trained for a little longer?"
      ],
      "metadata": {
        "id": "O38u1HfWsnyW"
      }
    },
    {
      "cell_type": "code",
      "source": [
        "# Set random seed\n",
        "tf.random.set_seed(42)\n",
        "\n",
        "# 1. Create the model (same as model_1 but with an extra layer)\n",
        "model_2 = tf.keras.Sequential([\n",
        "  tf.keras.layers.Dense(1), # add an extra layer\n",
        "  tf.keras.layers.Dense(1)\n",
        "])\n",
        "\n",
        "# 2. Compile the model\n",
        "model_2.compile(loss=tf.keras.losses.BinaryCrossentropy(),\n",
        "                optimizer=tf.keras.optimizers.SGD(),\n",
        "                metrics=['accuracy'])\n",
        "\n",
        "# 3. Fit the model\n",
        "model_2.fit(X, y, epochs=200, verbose=0) # set verbose=0 to make the output print less\n",
        "\n",
        "\n",
        "# 4. Evaluate the model\n",
        "model_2.evaluate(X, y)"
      ],
      "metadata": {
        "colab": {
          "base_uri": "https://localhost:8080/"
        },
        "id": "Ln3B56POsLW_",
        "outputId": "a2c52f79-abad-4915-ddfb-e5b945602334"
      },
      "execution_count": 12,
      "outputs": [
        {
          "output_type": "stream",
          "name": "stdout",
          "text": [
            "32/32 [==============================] - 0s 2ms/step - loss: 0.6938 - accuracy: 0.5000\n"
          ]
        },
        {
          "output_type": "execute_result",
          "data": {
            "text/plain": [
              "[0.6938377022743225, 0.5]"
            ]
          },
          "metadata": {},
          "execution_count": 12
        }
      ]
    },
    {
      "cell_type": "markdown",
      "source": [
        "## Improving the model"
      ],
      "metadata": {
        "id": "uQlH8MwItClE"
      }
    },
    {
      "cell_type": "code",
      "source": [
        "# Set random seed\n",
        "tf.random.set_seed(42)\n",
        "\n",
        "# 1. Create the model (this time 3 layers)\n",
        "model_3 = tf.keras.Sequential([\n",
        "  # Before TensorFlow 2.7.0\n",
        "  # tf.keras.layers.Dense(100), # add 100 dense neurons\n",
        "\n",
        "  # With TensorFlow 2.7.0\n",
        "  # tf.keras.layers.Dense(100, input_shape=(None, 1)), # add 100 dense neurons\n",
        "\n",
        "  ## After TensorFlow 2.8.0 ##\n",
        "  tf.keras.layers.Dense(100), # add 100 dense neurons\n",
        "  tf.keras.layers.Dense(10), # add another layer with 10 neurons\n",
        "  tf.keras.layers.Dense(1)\n",
        "])\n",
        "\n",
        "# 2. Compile the model\n",
        "model_3.compile(loss=tf.keras.losses.BinaryCrossentropy(),\n",
        "                optimizer=tf.keras.optimizers.Adam(), # use Adam instead of SGD\n",
        "                metrics=['accuracy'])\n",
        "\n",
        "# 3. Fit the model\n",
        "model_3.fit(X, y, epochs=100, verbose=0) # fit for 100 passes of the data\n",
        "\n",
        "# 4. Evaluate the model\n",
        "model_3.evaluate(X, y)"
      ],
      "metadata": {
        "colab": {
          "base_uri": "https://localhost:8080/"
        },
        "id": "6fiL37_lsv4x",
        "outputId": "1494dddd-7eb5-495d-f6dc-b4b7f62896dd"
      },
      "execution_count": 13,
      "outputs": [
        {
          "output_type": "stream",
          "name": "stdout",
          "text": [
            "32/32 [==============================] - 0s 1ms/step - loss: 0.7028 - accuracy: 0.5050\n"
          ]
        },
        {
          "output_type": "execute_result",
          "data": {
            "text/plain": [
              "[0.7027895450592041, 0.5049999952316284]"
            ]
          },
          "metadata": {},
          "execution_count": 13
        }
      ]
    },
    {
      "cell_type": "markdown",
      "source": [
        "To visualize our model's predictions we're going to create a function plot_decision_boundary() which:\n",
        "\n",
        "* Takes in a trained model, features (X) and labels (y).\n",
        "* Creates a meshgrid of the different X values.\n",
        "* Makes predictions across the meshgrid.\n",
        "* Plots the predictions as well as a line between the different zones (where each unique class falls)."
      ],
      "metadata": {
        "id": "STh-qNypuduB"
      }
    },
    {
      "cell_type": "code",
      "source": [
        "import numpy as np\n",
        "\n",
        "def plot_decision_boundary(model, X, y):\n",
        "  # Define the axis boundaries of the plot and create a meshgrid\n",
        "  x_min, x_max = X[:, 0].min() - 0.1, X[:, 0].max() + 0.1\n",
        "  y_min, y_max = X[:, 1].min() - 0.1, X[:, 1].max() + 0.1\n",
        "  xx, yy = np.meshgrid(np.linspace(x_min, x_max, 100),\n",
        "                       np.linspace(y_min, y_max, 100))\n",
        "  # Create X values (we're going to predict on all of these)\n",
        "  x_in = np.c_[xx.ravel(), yy.ravel()] # stack 2D arrays together\n",
        "\n",
        "  # Make predictions using the trained model\n",
        "  y_pred = model.predict(x_in)\n",
        "\n",
        "  # Check for multi-class\n",
        "  if model.output_shape[-1] > 1: # checks the final dimension of the model's output shape, if this is > (greater than) 1, it's multi-class\n",
        "    print(\"doing multiclass classification\")\n",
        "    # We have to reshape our predictions to get them ready for plotting\n",
        "    y_pred = np.argmax(y_pred, axis=1).reshape(xx.shape)\n",
        "  else:\n",
        "    print(\"doing binary classifcation\")\n",
        "    y_pred = np.round(np.max(y_pred, axis=1)).reshape(xx.shape)\n",
        "\n",
        "  # Plot decision boundary\n",
        "  plt.contourf(xx, yy, y_pred, cmap=plt.cm.RdYlBu, alpha=0.7)\n",
        "  plt.scatter(X[:, 0], X[:, 1], c=y, s=40, cmap=plt.cm.RdYlBu)\n",
        "  plt.xlim(xx.min(), xx.max())\n",
        "  plt.ylim(yy.min(), yy.max())"
      ],
      "metadata": {
        "id": "tdDx2tHttRwj"
      },
      "execution_count": 16,
      "outputs": []
    },
    {
      "cell_type": "code",
      "source": [
        "# Check out the predictions our model is making\n",
        "plot_decision_boundary(model_3, X, y)"
      ],
      "metadata": {
        "colab": {
          "base_uri": "https://localhost:8080/",
          "height": 465
        },
        "id": "__8wcYOUSTuQ",
        "outputId": "0bbf3629-8ce8-41b2-def4-e645a5c15a93"
      },
      "execution_count": 17,
      "outputs": [
        {
          "output_type": "stream",
          "name": "stdout",
          "text": [
            "313/313 [==============================] - 0s 1ms/step\n",
            "doing binary classifcation\n"
          ]
        },
        {
          "output_type": "display_data",
          "data": {
            "text/plain": [
              "<Figure size 640x480 with 1 Axes>"
            ],
            "image/png": "[encoded data removed]"
          },
          "metadata": {}
        }
      ]
    },
    {
      "cell_type": "code",
      "source": [
        "import numpy as np\n",
        "import tensorflow as tf\n",
        "\n",
        "# Set random seed for reproducibility\n",
        "tf.random.set_seed(42)\n",
        "\n",
        "# Generate some sample regression data\n",
        "X_regression = np.arange(0, 1000, 5)\n",
        "y_regression = np.arange(100, 1100, 5)\n",
        "\n",
        "# Split the data into train and test sets\n",
        "X_reg_train = X_regression[:150].reshape(-1, 1)  # Reshape to make it 2D\n",
        "X_reg_test = X_regression[150:].reshape(-1, 1)\n",
        "y_reg_train = y_regression[:150]\n",
        "y_reg_test = y_regression[150:]\n",
        "\n",
        "# Import Sequential and Dense from tensorflow.keras\n",
        "from tensorflow.keras.models import Sequential\n",
        "from tensorflow.keras.layers import Dense\n",
        "\n",
        "# Define the model\n",
        "model_3 = Sequential([\n",
        "    Dense(64, input_shape=(1,), activation='relu'),  # Input shape is 1D\n",
        "    Dense(1)  # Output layer for regression\n",
        "])\n",
        "\n",
        "# Compile the model\n",
        "model_3.compile(optimizer='adam', loss='mean_squared_error')\n",
        "\n",
        "# Train the model\n",
        "model_3.fit(X_reg_train, y_reg_train, epochs=100, verbose=1)\n"
      ],
      "metadata": {
        "colab": {
          "base_uri": "https://localhost:8080/"
        },
        "id": "q3doKUiRSboc",
        "outputId": "bef6ca9d-8312-496a-8c06-96ac00393729"
      },
      "execution_count": 21,
      "outputs": [
        {
          "output_type": "stream",
          "name": "stdout",
          "text": [
            "Epoch 1/100\n",
            "5/5 [==============================] - 0s 4ms/step - loss: 308312.1250\n",
            "Epoch 2/100\n",
            "5/5 [==============================] - 0s 3ms/step - loss: 281789.2188\n",
            "Epoch 3/100\n",
            "5/5 [==============================] - 0s 3ms/step - loss: 258460.0469\n",
            "Epoch 4/100\n",
            "5/5 [==============================] - 0s 4ms/step - loss: 236146.5312\n",
            "Epoch 5/100\n",
            "5/5 [==============================] - 0s 3ms/step - loss: 215148.3438\n",
            "Epoch 6/100\n",
            "5/5 [==============================] - 0s 4ms/step - loss: 195053.6562\n",
            "Epoch 7/100\n",
            "5/5 [==============================] - 0s 3ms/step - loss: 176804.1719\n",
            "Epoch 8/100\n",
            "5/5 [==============================] - 0s 4ms/step - loss: 160384.8281\n",
            "Epoch 9/100\n",
            "5/5 [==============================] - 0s 3ms/step - loss: 145314.0312\n",
            "Epoch 10/100\n",
            "5/5 [==============================] - 0s 3ms/step - loss: 130741.1719\n",
            "Epoch 11/100\n",
            "5/5 [==============================] - 0s 3ms/step - loss: 117240.6953\n",
            "Epoch 12/100\n",
            "5/5 [==============================] - 0s 3ms/step - loss: 104765.0469\n",
            "Epoch 13/100\n",
            "5/5 [==============================] - 0s 3ms/step - loss: 93322.8281\n",
            "Epoch 14/100\n",
            "5/5 [==============================] - 0s 3ms/step - loss: 82826.3516\n",
            "Epoch 15/100\n",
            "5/5 [==============================] - 0s 3ms/step - loss: 73178.8906\n",
            "Epoch 16/100\n",
            "5/5 [==============================] - 0s 4ms/step - loss: 64741.5547\n",
            "Epoch 17/100\n",
            "5/5 [==============================] - 0s 3ms/step - loss: 56646.3789\n",
            "Epoch 18/100\n",
            "5/5 [==============================] - 0s 3ms/step - loss: 49439.0898\n",
            "Epoch 19/100\n",
            "5/5 [==============================] - 0s 4ms/step - loss: 42955.1367\n",
            "Epoch 20/100\n",
            "5/5 [==============================] - 0s 4ms/step - loss: 37061.3047\n",
            "Epoch 21/100\n",
            "5/5 [==============================] - 0s 3ms/step - loss: 31960.6738\n",
            "Epoch 22/100\n",
            "5/5 [==============================] - 0s 3ms/step - loss: 27478.0605\n",
            "Epoch 23/100\n",
            "5/5 [==============================] - 0s 3ms/step - loss: 23557.4121\n",
            "Epoch 24/100\n",
            "5/5 [==============================] - 0s 3ms/step - loss: 19911.9609\n",
            "Epoch 25/100\n",
            "5/5 [==============================] - 0s 3ms/step - loss: 17010.1133\n",
            "Epoch 26/100\n",
            "5/5 [==============================] - 0s 3ms/step - loss: 14447.5146\n",
            "Epoch 27/100\n",
            "5/5 [==============================] - 0s 2ms/step - loss: 12216.3721\n",
            "Epoch 28/100\n",
            "5/5 [==============================] - 0s 2ms/step - loss: 10314.4658\n",
            "Epoch 29/100\n",
            "5/5 [==============================] - 0s 4ms/step - loss: 8796.6553\n",
            "Epoch 30/100\n",
            "5/5 [==============================] - 0s 3ms/step - loss: 7514.6533\n",
            "Epoch 31/100\n",
            "5/5 [==============================] - 0s 3ms/step - loss: 6424.5811\n",
            "Epoch 32/100\n",
            "5/5 [==============================] - 0s 2ms/step - loss: 5562.2339\n",
            "Epoch 33/100\n",
            "5/5 [==============================] - 0s 3ms/step - loss: 4862.7876\n",
            "Epoch 34/100\n",
            "5/5 [==============================] - 0s 3ms/step - loss: 4300.5059\n",
            "Epoch 35/100\n",
            "5/5 [==============================] - 0s 3ms/step - loss: 3860.9551\n",
            "Epoch 36/100\n",
            "5/5 [==============================] - 0s 3ms/step - loss: 3514.5029\n",
            "Epoch 37/100\n",
            "5/5 [==============================] - 0s 3ms/step - loss: 3252.4644\n",
            "Epoch 38/100\n",
            "5/5 [==============================] - 0s 3ms/step - loss: 3051.6355\n",
            "Epoch 39/100\n",
            "5/5 [==============================] - 0s 3ms/step - loss: 2894.0916\n",
            "Epoch 40/100\n",
            "5/5 [==============================] - 0s 2ms/step - loss: 2779.9128\n",
            "Epoch 41/100\n",
            "5/5 [==============================] - 0s 3ms/step - loss: 2695.0471\n",
            "Epoch 42/100\n",
            "5/5 [==============================] - 0s 3ms/step - loss: 2631.7905\n",
            "Epoch 43/100\n",
            "5/5 [==============================] - 0s 3ms/step - loss: 2589.1428\n",
            "Epoch 44/100\n",
            "5/5 [==============================] - 0s 3ms/step - loss: 2553.5859\n",
            "Epoch 45/100\n",
            "5/5 [==============================] - 0s 3ms/step - loss: 2531.0029\n",
            "Epoch 46/100\n",
            "5/5 [==============================] - 0s 3ms/step - loss: 2515.2175\n",
            "Epoch 47/100\n",
            "5/5 [==============================] - 0s 3ms/step - loss: 2505.2339\n",
            "Epoch 48/100\n",
            "5/5 [==============================] - 0s 3ms/step - loss: 2495.5334\n",
            "Epoch 49/100\n",
            "5/5 [==============================] - 0s 3ms/step - loss: 2491.8767\n",
            "Epoch 50/100\n",
            "5/5 [==============================] - 0s 4ms/step - loss: 2486.6460\n",
            "Epoch 51/100\n",
            "5/5 [==============================] - 0s 4ms/step - loss: 2484.5874\n",
            "Epoch 52/100\n",
            "5/5 [==============================] - 0s 4ms/step - loss: 2483.5042\n",
            "Epoch 53/100\n",
            "5/5 [==============================] - 0s 4ms/step - loss: 2481.8274\n",
            "Epoch 54/100\n",
            "5/5 [==============================] - 0s 4ms/step - loss: 2481.1155\n",
            "Epoch 55/100\n",
            "5/5 [==============================] - 0s 3ms/step - loss: 2481.0403\n",
            "Epoch 56/100\n",
            "5/5 [==============================] - 0s 3ms/step - loss: 2479.8552\n",
            "Epoch 57/100\n",
            "5/5 [==============================] - 0s 3ms/step - loss: 2479.5896\n",
            "Epoch 58/100\n",
            "5/5 [==============================] - 0s 3ms/step - loss: 2479.1047\n",
            "Epoch 59/100\n",
            "5/5 [==============================] - 0s 4ms/step - loss: 2478.6936\n",
            "Epoch 60/100\n",
            "5/5 [==============================] - 0s 3ms/step - loss: 2478.4878\n",
            "Epoch 61/100\n",
            "5/5 [==============================] - 0s 4ms/step - loss: 2478.5320\n",
            "Epoch 62/100\n",
            "5/5 [==============================] - 0s 4ms/step - loss: 2477.9268\n",
            "Epoch 63/100\n",
            "5/5 [==============================] - 0s 3ms/step - loss: 2477.8413\n",
            "Epoch 64/100\n",
            "5/5 [==============================] - 0s 3ms/step - loss: 2477.4043\n",
            "Epoch 65/100\n",
            "5/5 [==============================] - 0s 4ms/step - loss: 2477.2224\n",
            "Epoch 66/100\n",
            "5/5 [==============================] - 0s 4ms/step - loss: 2477.4534\n",
            "Epoch 67/100\n",
            "5/5 [==============================] - 0s 3ms/step - loss: 2476.5933\n",
            "Epoch 68/100\n",
            "5/5 [==============================] - 0s 4ms/step - loss: 2476.3508\n",
            "Epoch 69/100\n",
            "5/5 [==============================] - 0s 4ms/step - loss: 2476.2595\n",
            "Epoch 70/100\n",
            "5/5 [==============================] - 0s 3ms/step - loss: 2476.3857\n",
            "Epoch 71/100\n",
            "5/5 [==============================] - 0s 4ms/step - loss: 2475.5125\n",
            "Epoch 72/100\n",
            "5/5 [==============================] - 0s 4ms/step - loss: 2475.3794\n",
            "Epoch 73/100\n",
            "5/5 [==============================] - 0s 4ms/step - loss: 2475.0625\n",
            "Epoch 74/100\n",
            "5/5 [==============================] - 0s 4ms/step - loss: 2474.6289\n",
            "Epoch 75/100\n",
            "5/5 [==============================] - 0s 4ms/step - loss: 2474.4575\n",
            "Epoch 76/100\n",
            "5/5 [==============================] - 0s 3ms/step - loss: 2474.1072\n",
            "Epoch 77/100\n",
            "5/5 [==============================] - 0s 4ms/step - loss: 2474.1985\n",
            "Epoch 78/100\n",
            "5/5 [==============================] - 0s 3ms/step - loss: 2473.6082\n",
            "Epoch 79/100\n",
            "5/5 [==============================] - 0s 4ms/step - loss: 2473.3313\n",
            "Epoch 80/100\n",
            "5/5 [==============================] - 0s 4ms/step - loss: 2473.0420\n",
            "Epoch 81/100\n",
            "5/5 [==============================] - 0s 3ms/step - loss: 2472.6992\n",
            "Epoch 82/100\n",
            "5/5 [==============================] - 0s 3ms/step - loss: 2472.4163\n",
            "Epoch 83/100\n",
            "5/5 [==============================] - 0s 3ms/step - loss: 2472.0859\n",
            "Epoch 84/100\n",
            "5/5 [==============================] - 0s 3ms/step - loss: 2471.8132\n",
            "Epoch 85/100\n",
            "5/5 [==============================] - 0s 3ms/step - loss: 2471.5913\n",
            "Epoch 86/100\n",
            "5/5 [==============================] - 0s 3ms/step - loss: 2471.1406\n",
            "Epoch 87/100\n",
            "5/5 [==============================] - 0s 3ms/step - loss: 2471.2476\n",
            "Epoch 88/100\n",
            "5/5 [==============================] - 0s 3ms/step - loss: 2470.5251\n",
            "Epoch 89/100\n",
            "5/5 [==============================] - 0s 3ms/step - loss: 2470.1995\n",
            "Epoch 90/100\n",
            "5/5 [==============================] - 0s 3ms/step - loss: 2469.9084\n",
            "Epoch 91/100\n",
            "5/5 [==============================] - 0s 3ms/step - loss: 2469.5569\n",
            "Epoch 92/100\n",
            "5/5 [==============================] - 0s 4ms/step - loss: 2469.1868\n",
            "Epoch 93/100\n",
            "5/5 [==============================] - 0s 4ms/step - loss: 2469.3477\n",
            "Epoch 94/100\n",
            "5/5 [==============================] - 0s 3ms/step - loss: 2468.9126\n",
            "Epoch 95/100\n",
            "5/5 [==============================] - 0s 3ms/step - loss: 2468.3755\n",
            "Epoch 96/100\n",
            "5/5 [==============================] - 0s 3ms/step - loss: 2468.2007\n",
            "Epoch 97/100\n",
            "5/5 [==============================] - 0s 3ms/step - loss: 2467.7080\n",
            "Epoch 98/100\n",
            "5/5 [==============================] - 0s 3ms/step - loss: 2467.3899\n",
            "Epoch 99/100\n",
            "5/5 [==============================] - 0s 3ms/step - loss: 2467.2275\n",
            "Epoch 100/100\n",
            "5/5 [==============================] - 0s 3ms/step - loss: 2466.6707\n"
          ]
        },
        {
          "output_type": "execute_result",
          "data": {
            "text/plain": [
              "<keras.src.callbacks.History at 0x7fbb72bf99f0>"
            ]
          },
          "metadata": {},
          "execution_count": 21
        }
      ]
    },
    {
      "cell_type": "code",
      "source": [
        "model_3.summary()\n"
      ],
      "metadata": {
        "colab": {
          "base_uri": "https://localhost:8080/"
        },
        "id": "7OHDGeFEU0xU",
        "outputId": "eb633ba5-994c-4c38-a62b-8f96c225756b"
      },
      "execution_count": 22,
      "outputs": [
        {
          "output_type": "stream",
          "name": "stdout",
          "text": [
            "Model: \"sequential_3\"\n",
            "_________________________________________________________________\n",
            " Layer (type)                Output Shape              Param #   \n",
            "=================================================================\n",
            " dense_6 (Dense)             (None, 64)                128       \n",
            "                                                                 \n",
            " dense_7 (Dense)             (None, 1)                 65        \n",
            "                                                                 \n",
            "=================================================================\n",
            "Total params: 193 (772.00 Byte)\n",
            "Trainable params: 193 (772.00 Byte)\n",
            "Non-trainable params: 0 (0.00 Byte)\n",
            "_________________________________________________________________\n"
          ]
        }
      ]
    },
    {
      "cell_type": "code",
      "source": [
        "tf.random.set_seed(42)\n",
        "model_3 = tf.keras.Sequential([\n",
        "    tf.keras.layers.Dense(100),\n",
        "    tf.keras.layers.Dense(10),\n",
        "    tf.keras.layers.Dense(1)\n",
        "])\n",
        "model_3.compile(loss=tf.keras.losses.mae,\n",
        "                optimizer=tf.keras.optimizers.Adam(),\n",
        "                metrics=[\"mae\"])\n",
        "model_3.fit(tf.expand_dims(X_reg_train, axis=-1),y_reg_train,epochs=100)"
      ],
      "metadata": {
        "colab": {
          "base_uri": "https://localhost:8080/"
        },
        "id": "xooAVGGYVlf8",
        "outputId": "3c8e43af-48f3-4e9e-812a-e147a519e887"
      },
      "execution_count": 23,
      "outputs": [
        {
          "output_type": "stream",
          "name": "stdout",
          "text": [
            "Epoch 1/100\n",
            "5/5 [==============================] - 2s 7ms/step - loss: 512.6962 - mae: 512.6962\n",
            "Epoch 2/100\n",
            "5/5 [==============================] - 0s 5ms/step - loss: 427.1367 - mae: 427.1367\n",
            "Epoch 3/100\n",
            "5/5 [==============================] - 0s 4ms/step - loss: 352.8060 - mae: 352.8060\n",
            "Epoch 4/100\n",
            "5/5 [==============================] - 0s 4ms/step - loss: 297.1379 - mae: 297.1379\n",
            "Epoch 5/100\n",
            "5/5 [==============================] - 0s 5ms/step - loss: 268.2670 - mae: 268.2670\n",
            "Epoch 6/100\n",
            "5/5 [==============================] - 0s 5ms/step - loss: 257.3759 - mae: 257.3759\n",
            "Epoch 7/100\n",
            "5/5 [==============================] - 0s 4ms/step - loss: 254.3440 - mae: 254.3440\n",
            "Epoch 8/100\n",
            "5/5 [==============================] - 0s 4ms/step - loss: 255.1937 - mae: 255.1937\n",
            "Epoch 9/100\n",
            "5/5 [==============================] - 0s 5ms/step - loss: 262.9309 - mae: 262.9309\n",
            "Epoch 10/100\n",
            "5/5 [==============================] - 0s 6ms/step - loss: 258.2976 - mae: 258.2976\n",
            "Epoch 11/100\n",
            "5/5 [==============================] - 0s 5ms/step - loss: 258.4756 - mae: 258.4756\n",
            "Epoch 12/100\n",
            "5/5 [==============================] - 0s 4ms/step - loss: 256.0552 - mae: 256.0552\n",
            "Epoch 13/100\n",
            "5/5 [==============================] - 0s 4ms/step - loss: 258.6277 - mae: 258.6277\n",
            "Epoch 14/100\n",
            "5/5 [==============================] - 0s 4ms/step - loss: 261.2168 - mae: 261.2168\n",
            "Epoch 15/100\n",
            "5/5 [==============================] - 0s 4ms/step - loss: 253.3781 - mae: 253.3781\n",
            "Epoch 16/100\n",
            "5/5 [==============================] - 0s 6ms/step - loss: 259.2494 - mae: 259.2494\n",
            "Epoch 17/100\n",
            "5/5 [==============================] - 0s 4ms/step - loss: 258.2798 - mae: 258.2798\n",
            "Epoch 18/100\n",
            "5/5 [==============================] - 0s 4ms/step - loss: 260.7317 - mae: 260.7317\n",
            "Epoch 19/100\n",
            "5/5 [==============================] - 0s 4ms/step - loss: 259.3991 - mae: 259.3991\n",
            "Epoch 20/100\n",
            "5/5 [==============================] - 0s 4ms/step - loss: 256.4730 - mae: 256.4730\n",
            "Epoch 21/100\n",
            "5/5 [==============================] - 0s 4ms/step - loss: 259.3273 - mae: 259.3273\n",
            "Epoch 22/100\n",
            "5/5 [==============================] - 0s 4ms/step - loss: 257.1669 - mae: 257.1669\n",
            "Epoch 23/100\n",
            "5/5 [==============================] - 0s 4ms/step - loss: 253.9972 - mae: 253.9972\n",
            "Epoch 24/100\n",
            "5/5 [==============================] - 0s 4ms/step - loss: 254.0535 - mae: 254.0535\n",
            "Epoch 25/100\n",
            "5/5 [==============================] - 0s 4ms/step - loss: 259.9968 - mae: 259.9968\n",
            "Epoch 26/100\n",
            "5/5 [==============================] - 0s 4ms/step - loss: 256.3819 - mae: 256.3819\n",
            "Epoch 27/100\n",
            "5/5 [==============================] - 0s 6ms/step - loss: 258.7890 - mae: 258.7890\n",
            "Epoch 28/100\n",
            "5/5 [==============================] - 0s 5ms/step - loss: 255.4265 - mae: 255.4265\n",
            "Epoch 29/100\n",
            "5/5 [==============================] - 0s 4ms/step - loss: 258.7204 - mae: 258.7204\n",
            "Epoch 30/100\n",
            "5/5 [==============================] - 0s 4ms/step - loss: 254.7959 - mae: 254.7959\n",
            "Epoch 31/100\n",
            "5/5 [==============================] - 0s 5ms/step - loss: 258.8753 - mae: 258.8753\n",
            "Epoch 32/100\n",
            "5/5 [==============================] - 0s 5ms/step - loss: 258.9063 - mae: 258.9063\n",
            "Epoch 33/100\n",
            "5/5 [==============================] - 0s 4ms/step - loss: 256.4937 - mae: 256.4937\n",
            "Epoch 34/100\n",
            "5/5 [==============================] - 0s 4ms/step - loss: 258.1626 - mae: 258.1626\n",
            "Epoch 35/100\n",
            "5/5 [==============================] - 0s 5ms/step - loss: 255.8417 - mae: 255.8417\n",
            "Epoch 36/100\n",
            "5/5 [==============================] - 0s 5ms/step - loss: 257.9406 - mae: 257.9406\n",
            "Epoch 37/100\n",
            "5/5 [==============================] - 0s 5ms/step - loss: 258.6140 - mae: 258.6140\n",
            "Epoch 38/100\n",
            "5/5 [==============================] - 0s 4ms/step - loss: 260.4202 - mae: 260.4202\n",
            "Epoch 39/100\n",
            "5/5 [==============================] - 0s 4ms/step - loss: 258.9622 - mae: 258.9622\n",
            "Epoch 40/100\n",
            "5/5 [==============================] - 0s 4ms/step - loss: 256.4466 - mae: 256.4466\n",
            "Epoch 41/100\n",
            "5/5 [==============================] - 0s 4ms/step - loss: 261.0322 - mae: 261.0322\n",
            "Epoch 42/100\n",
            "5/5 [==============================] - 0s 4ms/step - loss: 260.2287 - mae: 260.2287\n",
            "Epoch 43/100\n",
            "5/5 [==============================] - 0s 4ms/step - loss: 259.9174 - mae: 259.9174\n",
            "Epoch 44/100\n",
            "5/5 [==============================] - 0s 4ms/step - loss: 258.4646 - mae: 258.4646\n",
            "Epoch 45/100\n",
            "5/5 [==============================] - 0s 4ms/step - loss: 260.6385 - mae: 260.6385\n",
            "Epoch 46/100\n",
            "5/5 [==============================] - 0s 4ms/step - loss: 256.2623 - mae: 256.2623\n",
            "Epoch 47/100\n",
            "5/5 [==============================] - 0s 4ms/step - loss: 257.8858 - mae: 257.8858\n",
            "Epoch 48/100\n",
            "5/5 [==============================] - 0s 4ms/step - loss: 259.3513 - mae: 259.3513\n",
            "Epoch 49/100\n",
            "5/5 [==============================] - 0s 4ms/step - loss: 256.0563 - mae: 256.0563\n",
            "Epoch 50/100\n",
            "5/5 [==============================] - 0s 5ms/step - loss: 257.5362 - mae: 257.5362\n",
            "Epoch 51/100\n",
            "5/5 [==============================] - 0s 4ms/step - loss: 258.1447 - mae: 258.1447\n",
            "Epoch 52/100\n",
            "5/5 [==============================] - 0s 5ms/step - loss: 260.2098 - mae: 260.2098\n",
            "Epoch 53/100\n",
            "5/5 [==============================] - 0s 4ms/step - loss: 259.0459 - mae: 259.0459\n",
            "Epoch 54/100\n",
            "5/5 [==============================] - 0s 4ms/step - loss: 260.5943 - mae: 260.5943\n",
            "Epoch 55/100\n",
            "5/5 [==============================] - 0s 4ms/step - loss: 257.2899 - mae: 257.2899\n",
            "Epoch 56/100\n",
            "5/5 [==============================] - 0s 3ms/step - loss: 253.4559 - mae: 253.4559\n",
            "Epoch 57/100\n",
            "5/5 [==============================] - 0s 4ms/step - loss: 256.9900 - mae: 256.9900\n",
            "Epoch 58/100\n",
            "5/5 [==============================] - 0s 4ms/step - loss: 259.5370 - mae: 259.5370\n",
            "Epoch 59/100\n",
            "5/5 [==============================] - 0s 4ms/step - loss: 260.2760 - mae: 260.2760\n",
            "Epoch 60/100\n",
            "5/5 [==============================] - 0s 5ms/step - loss: 260.1807 - mae: 260.1807\n",
            "Epoch 61/100\n",
            "5/5 [==============================] - 0s 6ms/step - loss: 256.4674 - mae: 256.4674\n",
            "Epoch 62/100\n",
            "5/5 [==============================] - 0s 4ms/step - loss: 258.7895 - mae: 258.7895\n",
            "Epoch 63/100\n",
            "5/5 [==============================] - 0s 4ms/step - loss: 257.9953 - mae: 257.9953\n",
            "Epoch 64/100\n",
            "5/5 [==============================] - 0s 4ms/step - loss: 259.6110 - mae: 259.6110\n",
            "Epoch 65/100\n",
            "5/5 [==============================] - 0s 4ms/step - loss: 254.7713 - mae: 254.7713\n",
            "Epoch 66/100\n",
            "5/5 [==============================] - 0s 4ms/step - loss: 252.6096 - mae: 252.6096\n",
            "Epoch 67/100\n",
            "5/5 [==============================] - 0s 4ms/step - loss: 258.6762 - mae: 258.6762\n",
            "Epoch 68/100\n",
            "5/5 [==============================] - 0s 4ms/step - loss: 259.3941 - mae: 259.3941\n",
            "Epoch 69/100\n",
            "5/5 [==============================] - 0s 4ms/step - loss: 256.9424 - mae: 256.9424\n",
            "Epoch 70/100\n",
            "5/5 [==============================] - 0s 4ms/step - loss: 254.4024 - mae: 254.4024\n",
            "Epoch 71/100\n",
            "5/5 [==============================] - 0s 4ms/step - loss: 258.7269 - mae: 258.7269\n",
            "Epoch 72/100\n",
            "5/5 [==============================] - 0s 5ms/step - loss: 258.3665 - mae: 258.3665\n",
            "Epoch 73/100\n",
            "5/5 [==============================] - 0s 5ms/step - loss: 259.4396 - mae: 259.4396\n",
            "Epoch 74/100\n",
            "5/5 [==============================] - 0s 5ms/step - loss: 258.4687 - mae: 258.4687\n",
            "Epoch 75/100\n",
            "5/5 [==============================] - 0s 5ms/step - loss: 255.7654 - mae: 255.7654\n",
            "Epoch 76/100\n",
            "5/5 [==============================] - 0s 4ms/step - loss: 260.1636 - mae: 260.1636\n",
            "Epoch 77/100\n",
            "5/5 [==============================] - 0s 4ms/step - loss: 251.3632 - mae: 251.3632\n",
            "Epoch 78/100\n",
            "5/5 [==============================] - 0s 5ms/step - loss: 255.9092 - mae: 255.9092\n",
            "Epoch 79/100\n",
            "5/5 [==============================] - 0s 4ms/step - loss: 257.2700 - mae: 257.2700\n",
            "Epoch 80/100\n",
            "5/5 [==============================] - 0s 4ms/step - loss: 253.8496 - mae: 253.8496\n",
            "Epoch 81/100\n",
            "5/5 [==============================] - 0s 4ms/step - loss: 257.8519 - mae: 257.8519\n",
            "Epoch 82/100\n",
            "5/5 [==============================] - 0s 4ms/step - loss: 256.5578 - mae: 256.5578\n",
            "Epoch 83/100\n",
            "5/5 [==============================] - 0s 4ms/step - loss: 258.9793 - mae: 258.9793\n",
            "Epoch 84/100\n",
            "5/5 [==============================] - 0s 4ms/step - loss: 257.5177 - mae: 257.5177\n",
            "Epoch 85/100\n",
            "5/5 [==============================] - 0s 5ms/step - loss: 253.9470 - mae: 253.9470\n",
            "Epoch 86/100\n",
            "5/5 [==============================] - 0s 5ms/step - loss: 257.1337 - mae: 257.1337\n",
            "Epoch 87/100\n",
            "5/5 [==============================] - 0s 5ms/step - loss: 251.8283 - mae: 251.8283\n",
            "Epoch 88/100\n",
            "5/5 [==============================] - 0s 5ms/step - loss: 254.9833 - mae: 254.9833\n",
            "Epoch 89/100\n",
            "5/5 [==============================] - 0s 6ms/step - loss: 259.0855 - mae: 259.0855\n",
            "Epoch 90/100\n",
            "5/5 [==============================] - 0s 4ms/step - loss: 257.1356 - mae: 257.1356\n",
            "Epoch 91/100\n",
            "5/5 [==============================] - 0s 5ms/step - loss: 258.4367 - mae: 258.4367\n",
            "Epoch 92/100\n",
            "5/5 [==============================] - 0s 4ms/step - loss: 257.1612 - mae: 257.1612\n",
            "Epoch 93/100\n",
            "5/5 [==============================] - 0s 4ms/step - loss: 258.6186 - mae: 258.6186\n",
            "Epoch 94/100\n",
            "5/5 [==============================] - 0s 5ms/step - loss: 258.3522 - mae: 258.3522\n",
            "Epoch 95/100\n",
            "5/5 [==============================] - 0s 5ms/step - loss: 259.7881 - mae: 259.7881\n",
            "Epoch 96/100\n",
            "5/5 [==============================] - 0s 5ms/step - loss: 252.7508 - mae: 252.7508\n",
            "Epoch 97/100\n",
            "5/5 [==============================] - 0s 4ms/step - loss: 256.0231 - mae: 256.0231\n",
            "Epoch 98/100\n",
            "5/5 [==============================] - 0s 4ms/step - loss: 252.9913 - mae: 252.9913\n",
            "Epoch 99/100\n",
            "5/5 [==============================] - 0s 5ms/step - loss: 249.6193 - mae: 249.6193\n",
            "Epoch 100/100\n",
            "5/5 [==============================] - 0s 4ms/step - loss: 258.3882 - mae: 258.3882\n"
          ]
        },
        {
          "output_type": "execute_result",
          "data": {
            "text/plain": [
              "<keras.src.callbacks.History at 0x7fbb81d828c0>"
            ]
          },
          "metadata": {},
          "execution_count": 23
        }
      ]
    },
    {
      "cell_type": "code",
      "source": [
        "y_reg_preds = model_3.predict(X_reg_test)\n",
        "plt.figure(figsize=(10,7))\n",
        "plt.scatter(X_reg_train, y_reg_train, c='b', label='Training Data')\n",
        "plt.scatter(X_reg_test, y_reg_test, c='r', label='Testing Data')\n",
        "plt.scatter(X_reg_test, y_reg_preds.squeeze(), c='y', label='Predictions')\n",
        "plt.legend();"
      ],
      "metadata": {
        "colab": {
          "base_uri": "https://localhost:8080/",
          "height": 616
        },
        "id": "AyH49-OmXDVI",
        "outputId": "03c4a48c-00cd-4621-c99a-04679a342843"
      },
      "execution_count": 25,
      "outputs": [
        {
          "output_type": "stream",
          "name": "stdout",
          "text": [
            "2/2 [==============================] - 0s 5ms/step\n"
          ]
        },
        {
          "output_type": "display_data",
          "data": {
            "text/plain": [
              "<Figure size 1000x700 with 1 Axes>"
            ],
            "image/png": "[encoded data removed]"
          },
          "metadata": {}
        }
      ]
    },
    {
      "cell_type": "markdown",
      "source": [],
      "metadata": {
        "id": "UefuUUyqZmuX"
      }
    },
    {
      "cell_type": "code",
      "source": [],
      "metadata": {
        "id": "Z2XKi5JmZcYg"
      },
      "execution_count": null,
      "outputs": []
    }
  ]
}